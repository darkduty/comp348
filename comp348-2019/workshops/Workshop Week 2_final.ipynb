{
 "cells": [
  {
   "cell_type": "markdown",
   "metadata": {},
   "source": [
    "# Demonstration\n",
    "\n",
    "The following demonstration will use the training set of the OHSUMED corpus. This training set was used in the Filtering Track of the 9th edition of the Text REtrieval Conference (TREC-9). We will use it for the information retrieval exercises of this workshop. Download [ohsumed.zip](ohsumed.zip) into the same folder as this notebook. The file is part of the git repository, so if you have cloned or downloaded the entire repository you will have the file in the right folder.\n",
    "\n",
    "The following code unzips the file:"
   ]
  },
  {
   "cell_type": "code",
   "execution_count": 1,
   "metadata": {},
   "outputs": [],
   "source": [
    "import zipfile\n",
    "zip_ref = zipfile.ZipFile('ohsumed.zip', 'r')\n",
    "zip_ref.extractall('.')\n",
    "zip_ref.close()"
   ]
  },
  {
   "cell_type": "markdown",
   "metadata": {},
   "source": [
    "To help you read the data, we are providing the file ohsumed.py (in the zip file above) that has a simple API to the data. When you import it at the Python prompt, it will provide the following variables:\n",
    "\n",
    "\n",
    "1. `index`: a dictionary with document IDs as keys, and document text as values.\n",
    "2. `questions`: a dictionary with query IDs as keys, and query text as values.\n",
    "3. `answers`: a dictionary with query IDs as keys, and a set with the IDs of known relevant documents as values. This information is used for evaluation.\n",
    "\n",
    "Below are some examples:"
   ]
  },
  {
   "cell_type": "code",
   "execution_count": 2,
   "metadata": {},
   "outputs": [
    {
     "name": "stdout",
     "output_type": "stream",
     "text": [
      "Reading OHSUMED data\n"
     ]
    }
   ],
   "source": [
    "import ohsumed"
   ]
  },
  {
   "cell_type": "code",
   "execution_count": 3,
   "metadata": {},
   "outputs": [
    {
     "data": {
      "text/plain": [
       "54710"
      ]
     },
     "execution_count": 3,
     "metadata": {},
     "output_type": "execute_result"
    }
   ],
   "source": [
    "len(ohsumed.index)"
   ]
  },
  {
   "cell_type": "code",
   "execution_count": 4,
   "metadata": {},
   "outputs": [
    {
     "data": {
      "text/plain": [
       "['87049087',\n",
       " '87049088',\n",
       " '87049089',\n",
       " '87049090',\n",
       " '87049091',\n",
       " '87049092',\n",
       " '87049093',\n",
       " '87049094',\n",
       " '87049095',\n",
       " '87049096']"
      ]
     },
     "execution_count": 4,
     "metadata": {},
     "output_type": "execute_result"
    }
   ],
   "source": [
    "sorted(list(ohsumed.index.keys()))[:10]"
   ]
  },
  {
   "cell_type": "code",
   "execution_count": 5,
   "metadata": {},
   "outputs": [
    {
     "data": {
      "text/plain": [
       "'Some patients converted from ventricular fibrillation to organized rhythms by defibrillation-trained ambulance technicians (EMT-Ds) will refibrillate before hospital arrival. The authors analyzed 271 cases of ventricular fibrillation managed by EMT-Ds working without paramedic back-up. Of 111 patients initially converted to organized rhythms, 19 (17%) refibrillated, 11 (58%) of whom were reconverted to perfusing rhythms, including nine of 11 (82%) who had spontaneous pulses prior to refibrillation. Among patients initially converted to organized rhythms, hospital admission rates were lower for patients who refibrillated than for patients who did not (53% versus 76%, P = NS), although discharge rates were virtually identical (37% and 35%, respectively). Scene-to-hospital transport times were not predictively associated with either the frequency of refibrillation or patient outcome. Defibrillation-trained EMTs can effectively manage refibrillation with additional shocks and are not at a significant disadvantage when paramedic back-up is not available.'"
      ]
     },
     "execution_count": 5,
     "metadata": {},
     "output_type": "execute_result"
    }
   ],
   "source": [
    "ohsumed.index['87049087']"
   ]
  },
  {
   "cell_type": "code",
   "execution_count": 6,
   "metadata": {},
   "outputs": [
    {
     "data": {
      "text/plain": [
       "63"
      ]
     },
     "execution_count": 6,
     "metadata": {},
     "output_type": "execute_result"
    }
   ],
   "source": [
    "len(ohsumed.questions)"
   ]
  },
  {
   "cell_type": "code",
   "execution_count": 7,
   "metadata": {},
   "outputs": [
    {
     "data": {
      "text/plain": [
       "['OHSU1',\n",
       " 'OHSU10',\n",
       " 'OHSU11',\n",
       " 'OHSU12',\n",
       " 'OHSU13',\n",
       " 'OHSU14',\n",
       " 'OHSU15',\n",
       " 'OHSU16',\n",
       " 'OHSU17',\n",
       " 'OHSU18']"
      ]
     },
     "execution_count": 7,
     "metadata": {},
     "output_type": "execute_result"
    }
   ],
   "source": [
    "sorted(list(ohsumed.questions.keys()))[:10]"
   ]
  },
  {
   "cell_type": "code",
   "execution_count": 8,
   "metadata": {},
   "outputs": [
    {
     "data": {
      "text/plain": [
       "'60 year old menopausal woman without hormone replacement therapy Are there adverse effects on lipids when progesterone is given with estrogen replacement therapy'"
      ]
     },
     "execution_count": 8,
     "metadata": {},
     "output_type": "execute_result"
    }
   ],
   "source": [
    "ohsumed.questions['OHSU1']"
   ]
  },
  {
   "cell_type": "code",
   "execution_count": 9,
   "metadata": {},
   "outputs": [
    {
     "data": {
      "text/plain": [
       "63"
      ]
     },
     "execution_count": 9,
     "metadata": {},
     "output_type": "execute_result"
    }
   ],
   "source": [
    "len(ohsumed.answers)"
   ]
  },
  {
   "cell_type": "code",
   "execution_count": 10,
   "metadata": {},
   "outputs": [
    {
     "data": {
      "text/plain": [
       "{'87097544', '87157536', '87157537', '87202778', '87316316', '87316326'}"
      ]
     },
     "execution_count": 10,
     "metadata": {},
     "output_type": "execute_result"
    }
   ],
   "source": [
    "ohsumed.answers['OHSU1']"
   ]
  },
  {
   "cell_type": "markdown",
   "metadata": {},
   "source": [
    "## Inverted index\n",
    "\n",
    "We are going to build an inverted index of the non-stop words with frequency higher than 5.\n",
    "\n",
    "The following code reads the files and creates a counter of all words in the corpus (including stop words). We will use NLTK's word tokeniser (read the beginning of [chapter 3 of NLTK's book](http://www.nltk.org/book/ch03.html#processing-raw-text)) to convert each document into a list of tokens. **Note that this code may take some time to run**."
   ]
  },
  {
   "cell_type": "code",
   "execution_count": 5,
   "metadata": {},
   "outputs": [
    {
     "name": "stderr",
     "output_type": "stream",
     "text": [
      "[nltk_data] Downloading package stopwords to\n",
      "[nltk_data]     C:\\Users\\45302081\\AppData\\Roaming\\nltk_data...\n",
      "[nltk_data]   Unzipping corpora\\stopwords.zip.\n",
      "[nltk_data] Downloading package punkt to\n",
      "[nltk_data]     C:\\Users\\45302081\\AppData\\Roaming\\nltk_data...\n",
      "[nltk_data]   Unzipping tokenizers\\punkt.zip.\n"
     ]
    }
   ],
   "source": [
    "import nltk, collections\n",
    "nltk.download('stopwords')\n",
    "nltk.download('punkt')\n",
    "stop = nltk.corpus.stopwords.words('english')\n",
    "wordcounter = collections.Counter([w.lower() for k in ohsumed.index\n",
    "                                             for s in nltk.sent_tokenize(ohsumed.index[k])\n",
    "                                             for w in nltk.word_tokenize(s)])"
   ]
  },
  {
   "cell_type": "code",
   "execution_count": 12,
   "metadata": {},
   "outputs": [
    {
     "data": {
      "text/plain": [
       "[('the', 305806),\n",
       " ('of', 271953),\n",
       " ('.', 254858),\n",
       " (',', 239656),\n",
       " ('and', 179604),\n",
       " ('in', 172449),\n",
       " ('to', 107431),\n",
       " (')', 96259),\n",
       " ('(', 95948),\n",
       " ('a', 95281)]"
      ]
     },
     "execution_count": 12,
     "metadata": {},
     "output_type": "execute_result"
    }
   ],
   "source": [
    "wordcounter.most_common(10)"
   ]
  },
  {
   "cell_type": "markdown",
   "metadata": {},
   "source": [
    "The following code creates the inverted index of all non-stop words with frequency higher than 5. **Note that this code  may take some time to run.**"
   ]
  },
  {
   "cell_type": "code",
   "execution_count": 6,
   "metadata": {},
   "outputs": [],
   "source": [
    "inverted = dict()\n",
    "for d in ohsumed.index:\n",
    "    for w in nltk.word_tokenize(ohsumed.index[d]):\n",
    "        w = w.lower()\n",
    "        if w in stop or wordcounter[w] <= 5:\n",
    "            continue\n",
    "        if w in inverted:\n",
    "            inverted[w].add(d) #add is a unique list, word is a key \n",
    "        else:\n",
    "            inverted[w] = set([d])"
   ]
  },
  {
   "cell_type": "code",
   "execution_count": 14,
   "metadata": {},
   "outputs": [
    {
     "data": {
      "text/plain": [
       "['accept',\n",
       " 'acceptability',\n",
       " 'acceptable',\n",
       " 'acceptably',\n",
       " 'acceptance',\n",
       " 'accepted',\n",
       " 'accepting',\n",
       " 'acceptor',\n",
       " 'acceptors',\n",
       " 'access']"
      ]
     },
     "execution_count": 14,
     "metadata": {},
     "output_type": "execute_result"
    }
   ],
   "source": [
    "sorted(list(inverted.keys()))[3000:3010]"
   ]
  },
  {
   "cell_type": "code",
   "execution_count": 15,
   "metadata": {},
   "outputs": [
    {
     "data": {
      "text/plain": [
       "{'87057543',\n",
       " '87067994',\n",
       " '87073895',\n",
       " '87074134',\n",
       " '87114326',\n",
       " '87119697',\n",
       " '87121859',\n",
       " '87129900',\n",
       " '87149032',\n",
       " '87153185',\n",
       " '87193350',\n",
       " '87223625',\n",
       " '87223856',\n",
       " '87224779',\n",
       " '87232524',\n",
       " '87251875',\n",
       " '87273001',\n",
       " '87282178',\n",
       " '87295871',\n",
       " '87297008'}"
      ]
     },
     "execution_count": 15,
     "metadata": {},
     "output_type": "execute_result"
    }
   ],
   "source": [
    "inverted['acceptability']"
   ]
  },
  {
   "cell_type": "markdown",
   "metadata": {},
   "source": [
    "The following code saves the inverted index into a pickle file. This way we do not need to compute the inverted index again. Read [Python's documentation on pickle files](https://docs.python.org/3/library/pickle.html) for more detail. Note that the file we created is opened for writing in binary mode, following the advice of a [stackoverflow post about saving pickle files](http://stackoverflow.com/questions/13906623/using-pickle-dump-typeerror-must-be-str-not-bytes)."
   ]
  },
  {
   "cell_type": "code",
   "execution_count": 16,
   "metadata": {},
   "outputs": [],
   "source": [
    "import pickle\n",
    "with open('inverted.pickle', 'wb') as f:\n",
    "    pickle.dump(inverted,f)"
   ]
  },
  {
   "cell_type": "markdown",
   "metadata": {},
   "source": [
    "## Boolean retrieval"
   ]
  },
  {
   "cell_type": "markdown",
   "metadata": {},
   "source": [
    "The following code reads the pickled file and returns the list of documents that maches this Boolean query:\n",
    "1. (menopausal OR pregnant) AND woman AND NOT healthy"
   ]
  },
  {
   "cell_type": "code",
   "execution_count": 17,
   "metadata": {},
   "outputs": [],
   "source": [
    "with open('inverted.pickle', 'rb') as f:\n",
    "    inverted = pickle.load(f)"
   ]
  },
  {
   "cell_type": "code",
   "execution_count": 18,
   "metadata": {},
   "outputs": [
    {
     "data": {
      "text/plain": [
       "{'87060673',\n",
       " '87066899',\n",
       " '87097274',\n",
       " '87097518',\n",
       " '87099263',\n",
       " '87114245',\n",
       " '87117852',\n",
       " '87128881',\n",
       " '87134330',\n",
       " '87138205',\n",
       " '87153548',\n",
       " '87153568',\n",
       " '87169457',\n",
       " '87185313',\n",
       " '87226668',\n",
       " '87231479',\n",
       " '87235637',\n",
       " '87251241',\n",
       " '87252385',\n",
       " '87261426',\n",
       " '87281235',\n",
       " '87290433',\n",
       " '87296136',\n",
       " '87316210',\n",
       " '87316220',\n",
       " '87316328',\n",
       " '87324028',\n",
       " '87325497'}"
      ]
     },
     "execution_count": 18,
     "metadata": {},
     "output_type": "execute_result"
    }
   ],
   "source": [
    "(inverted['menopausal'] | inverted['pregnant']) & inverted['woman'] - inverted['healthy']"
   ]
  },
  {
   "cell_type": "markdown",
   "metadata": {},
   "source": [
    "Note that it took very little time to run the query. In general, creating the index may take some time but it is needed only once if the files do not change, but queries on the index are very fast."
   ]
  },
  {
   "cell_type": "markdown",
   "metadata": {},
   "source": [
    "# Your Turn\n",
    "\n",
    "## 1. Vector Retrieval\n",
    "\n",
    "### Exercise 1.1: Boolean Information Retrieval\n",
    "\n",
    "Create an inverted index of the NLTK Gutenberg corpus and save it into a file \"gutenbergindex.pickle\". To create this index there is no need to look for stop words or word frequencies, since the corpus is not that large. Simply use all the words. Use this index to find the IDS of the documents that match the following Boolean queries:\n",
    "\n",
    "1. Brutus OR Caesar\n",
    "2. Brutus AND NOT Caesar\n",
    "3. (Brutus AND Caesar) OR Calpurnia\n"
   ]
  },
  {
   "cell_type": "code",
   "execution_count": 42,
   "metadata": {},
   "outputs": [
    {
     "data": {
      "text/plain": [
       "['austen-emma.txt',\n",
       " 'austen-persuasion.txt',\n",
       " 'austen-sense.txt',\n",
       " 'bible-kjv.txt',\n",
       " 'blake-poems.txt',\n",
       " 'bryant-stories.txt',\n",
       " 'burgess-busterbrown.txt',\n",
       " 'carroll-alice.txt',\n",
       " 'chesterton-ball.txt',\n",
       " 'chesterton-brown.txt',\n",
       " 'chesterton-thursday.txt',\n",
       " 'edgeworth-parents.txt',\n",
       " 'melville-moby_dick.txt',\n",
       " 'milton-paradise.txt',\n",
       " 'shakespeare-caesar.txt',\n",
       " 'shakespeare-hamlet.txt',\n",
       " 'shakespeare-macbeth.txt',\n",
       " 'whitman-leaves.txt']"
      ]
     },
     "execution_count": 42,
     "metadata": {},
     "output_type": "execute_result"
    }
   ],
   "source": [
    "gutenbergwords = nltk.corpus.gutenberg.fileids()\n",
    "gutenbergwords\n"
   ]
  },
  {
   "cell_type": "code",
   "execution_count": 68,
   "metadata": {},
   "outputs": [
    {
     "name": "stderr",
     "output_type": "stream",
     "text": [
      "[nltk_data] Downloading package gutenberg to\n",
      "[nltk_data]     C:\\Users\\45302081\\AppData\\Roaming\\nltk_data...\n",
      "[nltk_data]   Package gutenberg is already up-to-date!\n"
     ]
    },
    {
     "name": "stdout",
     "output_type": "stream",
     "text": [
      "Saving index into file gutenbergindex.pickle...\n",
      "Done\n"
     ]
    }
   ],
   "source": [
    "import pickle\n",
    "from nltk import word_tokenize \n",
    "nltk.download(\"gutenberg\")\n",
    "# Write your code here\n",
    "#First create inverted index of NLTK Gutenberg corpus\n",
    "gutenbergindex = dict()\n",
    "gutenbergwords = nltk.corpus.gutenberg.fileids()\n",
    "for file in gutenbergwords:\n",
    "    for word in nltk.corpus.gutenberg.words(file):\n",
    "        w = word.lower()\n",
    "        if w in gutenbergindex:\n",
    "            gutenbergindex[w].add(file) #add is a unique list, word is a key, there can be duplicates of words over multiple files \n",
    "        else:\n",
    "            gutenbergindex[w] = set([file]) #\n",
    "\n",
    "print(\"Saving index into file gutenbergindex.pickle...\")\n",
    "# Write your code here\n",
    "with open('gutenbergindex.pickle', 'wb') as f: \n",
    "    pickle.dump(gutenbergindex, f)\n",
    "\n",
    "print(\"Done\")"
   ]
  },
  {
   "cell_type": "code",
   "execution_count": 73,
   "metadata": {},
   "outputs": [],
   "source": [
    "#sorted(list(gutenbergindex.keys()))[:100]\n"
   ]
  },
  {
   "cell_type": "code",
   "execution_count": 70,
   "metadata": {},
   "outputs": [],
   "source": [
    "with open('gutenbergindex.pickle','rb') as f:\n",
    "    gutenbergindex = pickle.load(f)"
   ]
  },
  {
   "cell_type": "code",
   "execution_count": 74,
   "metadata": {},
   "outputs": [
    {
     "data": {
      "text/plain": [
       "{'bible-kjv.txt',\n",
       " 'chesterton-brown.txt',\n",
       " 'chesterton-thursday.txt',\n",
       " 'edgeworth-parents.txt',\n",
       " 'melville-moby_dick.txt',\n",
       " 'shakespeare-caesar.txt',\n",
       " 'shakespeare-hamlet.txt',\n",
       " 'shakespeare-macbeth.txt'}"
      ]
     },
     "execution_count": 74,
     "metadata": {},
     "output_type": "execute_result"
    }
   ],
   "source": [
    "# Write your code for searching for Brutus OR Caesar\n",
    "(gutenbergindex['brutus'] | gutenbergindex['caesar'])"
   ]
  },
  {
   "cell_type": "code",
   "execution_count": null,
   "metadata": {},
   "outputs": [],
   "source": []
  },
  {
   "cell_type": "code",
   "execution_count": 81,
   "metadata": {},
   "outputs": [
    {
     "data": {
      "text/plain": [
       "set()"
      ]
     },
     "execution_count": 81,
     "metadata": {},
     "output_type": "execute_result"
    }
   ],
   "source": [
    "# Write your code for searching for Brutus AND NOT Caesar\n",
    "(gutenbergindex['brutus'])  -  gutenbergindex['caesar']"
   ]
  },
  {
   "cell_type": "code",
   "execution_count": 84,
   "metadata": {},
   "outputs": [
    {
     "data": {
      "text/plain": [
       "{'shakespeare-caesar.txt', 'shakespeare-hamlet.txt'}"
      ]
     },
     "execution_count": 84,
     "metadata": {},
     "output_type": "execute_result"
    }
   ],
   "source": [
    "# Write your code for searching for (Brutus AND Caesar) OR Calpurnia\n",
    "(gutenbergindex['brutus'] & gutenbergindex['caesar']) | (gutenbergindex['brutus'])"
   ]
  },
  {
   "cell_type": "markdown",
   "metadata": {},
   "source": [
    "### Exercise 1.2: tf.idf\n",
    "\n",
    "Using scikit-learn, compute the tf.idf of all words in the OHSUMED corpus. Use the English list of stop words, and leave all other settings to their default values. In particular, do not stem the words. Pickle the resulting tf.idf vectoriser into a file tfidf.pickle. **Note that in this exercise you should use the sklearn functions, not nltk. In particular, do not use NLTK's list of stop words or its tokeniser.**"
   ]
  },
  {
   "cell_type": "code",
   "execution_count": 90,
   "metadata": {},
   "outputs": [
    {
     "data": {
      "text/plain": [
       "['87049087',\n",
       " '87049088',\n",
       " '87049089',\n",
       " '87049090',\n",
       " '87049091',\n",
       " '87049092',\n",
       " '87049093',\n",
       " '87049094',\n",
       " '87049095',\n",
       " '87049096',\n",
       " '87049097',\n",
       " '87049098',\n",
       " '87049099',\n",
       " '87049100',\n",
       " '87049101',\n",
       " '87049102',\n",
       " '87049103',\n",
       " '87049104',\n",
       " '87049105',\n",
       " '87049106',\n",
       " '87049107',\n",
       " '87049108',\n",
       " '87049109',\n",
       " '87049270',\n",
       " '87049271',\n",
       " '87049272',\n",
       " '87049273',\n",
       " '87049274',\n",
       " '87049275',\n",
       " '87049276',\n",
       " '87049277',\n",
       " '87049278',\n",
       " '87049279',\n",
       " '87049280',\n",
       " '87049281',\n",
       " '87049282',\n",
       " '87049283',\n",
       " '87049284',\n",
       " '87049285',\n",
       " '87049286',\n",
       " '87049287',\n",
       " '87049288',\n",
       " '87049289',\n",
       " '87049290',\n",
       " '87049291',\n",
       " '87049292',\n",
       " '87049293',\n",
       " '87049294',\n",
       " '87049295',\n",
       " '87049296',\n",
       " '87049297',\n",
       " '87049298',\n",
       " '87049299',\n",
       " '87049300',\n",
       " '87049301',\n",
       " '87049302',\n",
       " '87049303',\n",
       " '87049304',\n",
       " '87049305',\n",
       " '87049306',\n",
       " '87049307',\n",
       " '87049308',\n",
       " '87049309',\n",
       " '87049310',\n",
       " '87049311',\n",
       " '87049312',\n",
       " '87049313',\n",
       " '87049314',\n",
       " '87049315',\n",
       " '87049316',\n",
       " '87049317',\n",
       " '87049318',\n",
       " '87049319',\n",
       " '87049320',\n",
       " '87049321',\n",
       " '87049322',\n",
       " '87049323',\n",
       " '87049324',\n",
       " '87049325',\n",
       " '87049326',\n",
       " '87049327',\n",
       " '87049328',\n",
       " '87049329',\n",
       " '87049330',\n",
       " '87049331',\n",
       " '87049332',\n",
       " '87049333',\n",
       " '87049334',\n",
       " '87049335',\n",
       " '87049336',\n",
       " '87049337',\n",
       " '87049338',\n",
       " '87049339',\n",
       " '87049340',\n",
       " '87049341',\n",
       " '87049342',\n",
       " '87049343',\n",
       " '87049344',\n",
       " '87049345',\n",
       " '87049346',\n",
       " '87049347',\n",
       " '87049348',\n",
       " '87049349',\n",
       " '87049350',\n",
       " '87049351',\n",
       " '87049352',\n",
       " '87049353',\n",
       " '87049354',\n",
       " '87049355',\n",
       " '87049356',\n",
       " '87049357',\n",
       " '87049358',\n",
       " '87049359',\n",
       " '87049360',\n",
       " '87049361',\n",
       " '87049362',\n",
       " '87049363',\n",
       " '87049364',\n",
       " '87049365',\n",
       " '87049366',\n",
       " '87049367',\n",
       " '87049368',\n",
       " '87049369',\n",
       " '87049370',\n",
       " '87049371',\n",
       " '87049372',\n",
       " '87049373',\n",
       " '87049374',\n",
       " '87049375',\n",
       " '87049376',\n",
       " '87049377',\n",
       " '87049378',\n",
       " '87049379',\n",
       " '87049380',\n",
       " '87049381',\n",
       " '87049382',\n",
       " '87049383',\n",
       " '87049384',\n",
       " '87049385',\n",
       " '87049386',\n",
       " '87049387',\n",
       " '87049388',\n",
       " '87049389',\n",
       " '87049390',\n",
       " '87049391',\n",
       " '87049392',\n",
       " '87049393',\n",
       " '87049394',\n",
       " '87049395',\n",
       " '87049396',\n",
       " '87049397',\n",
       " '87049398',\n",
       " '87049399',\n",
       " '87049400',\n",
       " '87049401',\n",
       " '87049402',\n",
       " '87049403',\n",
       " '87049404',\n",
       " '87049405',\n",
       " '87049406',\n",
       " '87049407',\n",
       " '87049408',\n",
       " '87049409',\n",
       " '87049453',\n",
       " '87049454',\n",
       " '87049455',\n",
       " '87049456',\n",
       " '87049457',\n",
       " '87049458',\n",
       " '87049459',\n",
       " '87049460',\n",
       " '87049461',\n",
       " '87049462',\n",
       " '87049463',\n",
       " '87049464',\n",
       " '87049465',\n",
       " '87049466',\n",
       " '87049467',\n",
       " '87049468',\n",
       " '87049469',\n",
       " '87049470',\n",
       " '87049471',\n",
       " '87049472',\n",
       " '87049473',\n",
       " '87049474',\n",
       " '87049475',\n",
       " '87049476',\n",
       " '87049477',\n",
       " '87049478',\n",
       " '87049503',\n",
       " '87049504',\n",
       " '87049505',\n",
       " '87049506',\n",
       " '87049507',\n",
       " '87049508',\n",
       " '87049509',\n",
       " '87049510',\n",
       " '87049511',\n",
       " '87049512',\n",
       " '87049513',\n",
       " '87049514',\n",
       " '87049515',\n",
       " '87049516',\n",
       " '87049517',\n",
       " '87049518',\n",
       " '87049519',\n",
       " '87049520',\n",
       " '87049521',\n",
       " '87049559',\n",
       " '87049560',\n",
       " '87049561',\n",
       " '87049562',\n",
       " '87049563',\n",
       " '87049564',\n",
       " '87049565',\n",
       " '87049566',\n",
       " '87049567',\n",
       " '87049568',\n",
       " '87049569',\n",
       " '87049570',\n",
       " '87049571',\n",
       " '87049572',\n",
       " '87049573',\n",
       " '87049574',\n",
       " '87049575',\n",
       " '87049576',\n",
       " '87049577',\n",
       " '87049578',\n",
       " '87049579',\n",
       " '87049580',\n",
       " '87049581',\n",
       " '87049582',\n",
       " '87049583',\n",
       " '87049584',\n",
       " '87049585',\n",
       " '87049586',\n",
       " '87049587',\n",
       " '87049588',\n",
       " '87049589',\n",
       " '87050028',\n",
       " '87050029',\n",
       " '87050030',\n",
       " '87050031',\n",
       " '87050032',\n",
       " '87050033',\n",
       " '87050034',\n",
       " '87050035',\n",
       " '87050036',\n",
       " '87050037',\n",
       " '87050038',\n",
       " '87050039',\n",
       " '87050040',\n",
       " '87050041',\n",
       " '87050042',\n",
       " '87050043',\n",
       " '87050044',\n",
       " '87050045',\n",
       " '87050046',\n",
       " '87050047',\n",
       " '87050048',\n",
       " '87050049',\n",
       " '87050050',\n",
       " '87050051',\n",
       " '87050052',\n",
       " '87050053',\n",
       " '87050054',\n",
       " '87050055',\n",
       " '87050056',\n",
       " '87050057',\n",
       " '87050058',\n",
       " '87050059',\n",
       " '87050060',\n",
       " '87050061',\n",
       " '87050062',\n",
       " '87050063',\n",
       " '87050064',\n",
       " '87050065',\n",
       " '87050482',\n",
       " '87050483',\n",
       " '87050484',\n",
       " '87050485',\n",
       " '87050486',\n",
       " '87050487',\n",
       " '87050488',\n",
       " '87050489',\n",
       " '87050490',\n",
       " '87050491',\n",
       " '87050492',\n",
       " '87050493',\n",
       " '87050494',\n",
       " '87050495',\n",
       " '87050496',\n",
       " '87050497',\n",
       " '87050498',\n",
       " '87050499',\n",
       " '87050500',\n",
       " '87050501',\n",
       " '87050502',\n",
       " '87050503',\n",
       " '87050504',\n",
       " '87050505',\n",
       " '87050506',\n",
       " '87050507',\n",
       " '87050508',\n",
       " '87050509',\n",
       " '87050593',\n",
       " '87050594',\n",
       " '87050595',\n",
       " '87050596',\n",
       " '87050597',\n",
       " '87050598',\n",
       " '87050599',\n",
       " '87050600',\n",
       " '87050601',\n",
       " '87050602',\n",
       " '87050603',\n",
       " '87050604',\n",
       " '87050605',\n",
       " '87050606',\n",
       " '87050607',\n",
       " '87050608',\n",
       " '87050609',\n",
       " '87050610',\n",
       " '87050611',\n",
       " '87050612',\n",
       " '87050613',\n",
       " '87050614',\n",
       " '87050615',\n",
       " '87050616',\n",
       " '87050617',\n",
       " '87050618',\n",
       " '87050619',\n",
       " '87050620',\n",
       " '87050621',\n",
       " '87050622',\n",
       " '87050623',\n",
       " '87050624',\n",
       " '87050625',\n",
       " '87050626',\n",
       " '87050627',\n",
       " '87050628',\n",
       " '87050629',\n",
       " '87050630',\n",
       " '87050631',\n",
       " '87050632',\n",
       " '87050633',\n",
       " '87050634',\n",
       " '87050635',\n",
       " '87050636',\n",
       " '87050637',\n",
       " '87050638',\n",
       " '87050639',\n",
       " '87050640',\n",
       " '87050641',\n",
       " '87050642',\n",
       " '87050643',\n",
       " '87050644',\n",
       " '87050645',\n",
       " '87050646',\n",
       " '87050647',\n",
       " '87050648',\n",
       " '87050649',\n",
       " '87050650',\n",
       " '87050651',\n",
       " '87050652',\n",
       " '87050653',\n",
       " '87050654',\n",
       " '87050655',\n",
       " '87050656',\n",
       " '87050657',\n",
       " '87050658',\n",
       " '87050659',\n",
       " '87050660',\n",
       " '87050661',\n",
       " '87050662',\n",
       " '87050663',\n",
       " '87050664',\n",
       " '87050665',\n",
       " '87050666',\n",
       " '87050667',\n",
       " '87050668',\n",
       " '87050669',\n",
       " '87050670',\n",
       " '87050671',\n",
       " '87050672',\n",
       " '87050673',\n",
       " '87050674',\n",
       " '87050675',\n",
       " '87050676',\n",
       " '87050677',\n",
       " '87050678',\n",
       " '87050679',\n",
       " '87050680',\n",
       " '87050681',\n",
       " '87050682',\n",
       " '87050683',\n",
       " '87050684',\n",
       " '87050685',\n",
       " '87050686',\n",
       " '87050687',\n",
       " '87050688',\n",
       " '87050689',\n",
       " '87050690',\n",
       " '87050691',\n",
       " '87050692',\n",
       " '87050693',\n",
       " '87050694',\n",
       " '87050695',\n",
       " '87050696',\n",
       " '87050697',\n",
       " '87050698',\n",
       " '87050699',\n",
       " '87050700',\n",
       " '87050701',\n",
       " '87050702',\n",
       " '87050703',\n",
       " '87050704',\n",
       " '87050705',\n",
       " '87050706',\n",
       " '87050707',\n",
       " '87050708',\n",
       " '87050709',\n",
       " '87050917',\n",
       " '87050918',\n",
       " '87050919',\n",
       " '87050920',\n",
       " '87050921',\n",
       " '87050922',\n",
       " '87050923',\n",
       " '87050924',\n",
       " '87050925',\n",
       " '87050926',\n",
       " '87050927',\n",
       " '87050928',\n",
       " '87050929',\n",
       " '87050930',\n",
       " '87050999',\n",
       " '87051000',\n",
       " '87051001',\n",
       " '87051002',\n",
       " '87051003',\n",
       " '87051004',\n",
       " '87051005',\n",
       " '87051006',\n",
       " '87051060',\n",
       " '87051061',\n",
       " '87051062',\n",
       " '87051063',\n",
       " '87051064',\n",
       " '87051065',\n",
       " '87051066',\n",
       " '87051142',\n",
       " '87051143',\n",
       " '87051144',\n",
       " '87051145',\n",
       " '87051146',\n",
       " '87051147',\n",
       " '87051148',\n",
       " '87051149',\n",
       " '87051150',\n",
       " '87051151',\n",
       " '87051152',\n",
       " '87051153',\n",
       " '87051154',\n",
       " '87051155',\n",
       " '87051156',\n",
       " '87051157',\n",
       " '87051158',\n",
       " '87051159',\n",
       " '87051160',\n",
       " '87051161',\n",
       " '87051162',\n",
       " '87051163',\n",
       " '87051164',\n",
       " '87051165',\n",
       " '87051166',\n",
       " '87051167',\n",
       " '87051168',\n",
       " '87051169',\n",
       " '87051170',\n",
       " '87051171',\n",
       " '87051172',\n",
       " '87051239',\n",
       " '87051240',\n",
       " '87051241',\n",
       " '87051242',\n",
       " '87051243',\n",
       " '87051244',\n",
       " '87051245',\n",
       " '87051246',\n",
       " '87051247',\n",
       " '87051248',\n",
       " '87051249',\n",
       " '87051250',\n",
       " '87051251',\n",
       " '87051252',\n",
       " '87051253',\n",
       " '87051254',\n",
       " '87051255',\n",
       " '87051256',\n",
       " '87051257',\n",
       " '87051258',\n",
       " '87051259',\n",
       " '87051260',\n",
       " '87051261',\n",
       " '87051262',\n",
       " '87051263',\n",
       " '87051264',\n",
       " '87051265',\n",
       " '87051266',\n",
       " '87051267',\n",
       " '87051268',\n",
       " '87051269',\n",
       " '87051270',\n",
       " '87051271',\n",
       " '87051272',\n",
       " '87051547',\n",
       " '87051548',\n",
       " '87051549',\n",
       " '87051550',\n",
       " '87051551',\n",
       " '87051552',\n",
       " '87051553',\n",
       " '87051554',\n",
       " '87051555',\n",
       " '87051556',\n",
       " '87051557',\n",
       " '87051558',\n",
       " '87051559',\n",
       " '87051560',\n",
       " '87051561',\n",
       " '87051562',\n",
       " '87051563',\n",
       " '87051564',\n",
       " '87051565',\n",
       " '87051566',\n",
       " '87052045',\n",
       " '87052046',\n",
       " '87052047',\n",
       " '87052048',\n",
       " '87052049',\n",
       " '87052050',\n",
       " '87052051',\n",
       " '87052052',\n",
       " '87052053',\n",
       " '87052054',\n",
       " '87052055',\n",
       " '87052056',\n",
       " '87052057',\n",
       " '87052058',\n",
       " '87052059',\n",
       " '87052060',\n",
       " '87052061',\n",
       " '87052062',\n",
       " '87052063',\n",
       " '87052064',\n",
       " '87052065',\n",
       " '87052066',\n",
       " '87052067',\n",
       " '87052068',\n",
       " '87052069',\n",
       " '87052070',\n",
       " '87052071',\n",
       " '87052072',\n",
       " '87052073',\n",
       " '87052074',\n",
       " '87052075',\n",
       " '87052076',\n",
       " '87052077',\n",
       " '87052078',\n",
       " '87052079',\n",
       " '87052080',\n",
       " '87052081',\n",
       " '87052082',\n",
       " '87052083',\n",
       " '87052084',\n",
       " '87052085',\n",
       " '87052086',\n",
       " '87052087',\n",
       " '87052088',\n",
       " '87052089',\n",
       " '87052090',\n",
       " '87052091',\n",
       " '87052092',\n",
       " '87052093',\n",
       " '87052094',\n",
       " '87052095',\n",
       " '87052096',\n",
       " '87052097',\n",
       " '87052098',\n",
       " '87052099',\n",
       " '87052100',\n",
       " '87052101',\n",
       " '87052102',\n",
       " '87052103',\n",
       " '87052104',\n",
       " '87052105',\n",
       " '87052106',\n",
       " '87052107',\n",
       " '87052108',\n",
       " '87052109',\n",
       " '87052264',\n",
       " '87052265',\n",
       " '87052266',\n",
       " '87052267',\n",
       " '87052268',\n",
       " '87052269',\n",
       " '87052270',\n",
       " '87052271',\n",
       " '87052272',\n",
       " '87052273',\n",
       " '87052274',\n",
       " '87052275',\n",
       " '87052276',\n",
       " '87052381',\n",
       " '87052382',\n",
       " '87052383',\n",
       " '87052384',\n",
       " '87052385',\n",
       " '87052386',\n",
       " '87052387',\n",
       " '87052388',\n",
       " '87052389',\n",
       " '87052390',\n",
       " '87052391',\n",
       " '87052415',\n",
       " '87052416',\n",
       " '87052417',\n",
       " '87052418',\n",
       " '87052419',\n",
       " '87052420',\n",
       " '87052421',\n",
       " '87052422',\n",
       " '87052423',\n",
       " '87052424',\n",
       " '87052425',\n",
       " '87052426',\n",
       " '87052427',\n",
       " '87052428',\n",
       " '87052429',\n",
       " '87052430',\n",
       " '87052431',\n",
       " '87052432',\n",
       " '87052433',\n",
       " '87052434',\n",
       " '87052435',\n",
       " '87052436',\n",
       " '87052437',\n",
       " '87052438',\n",
       " '87052439',\n",
       " '87052440',\n",
       " '87052441',\n",
       " '87052442',\n",
       " '87052443',\n",
       " '87052444',\n",
       " '87052445',\n",
       " '87052446',\n",
       " '87052447',\n",
       " '87052448',\n",
       " '87052449',\n",
       " '87052450',\n",
       " '87052451',\n",
       " '87052452',\n",
       " '87052472',\n",
       " '87052473',\n",
       " '87052474',\n",
       " '87052475',\n",
       " '87052476',\n",
       " '87052477',\n",
       " '87052478',\n",
       " '87052479',\n",
       " '87052480',\n",
       " '87052481',\n",
       " '87052482',\n",
       " '87052483',\n",
       " '87052484',\n",
       " '87052485',\n",
       " '87052486',\n",
       " '87052487',\n",
       " '87052488',\n",
       " '87052489',\n",
       " '87052490',\n",
       " '87052491',\n",
       " '87052492',\n",
       " '87052493',\n",
       " '87052494',\n",
       " '87052495',\n",
       " '87052496',\n",
       " '87052497',\n",
       " '87052588',\n",
       " '87052589',\n",
       " '87052590',\n",
       " '87052591',\n",
       " '87052592',\n",
       " '87052593',\n",
       " '87052594',\n",
       " '87052595',\n",
       " '87052596',\n",
       " '87052597',\n",
       " '87052707',\n",
       " '87052708',\n",
       " '87052709',\n",
       " '87052710',\n",
       " '87052711',\n",
       " '87052712',\n",
       " '87052713',\n",
       " '87052714',\n",
       " '87052715',\n",
       " '87052716',\n",
       " '87052717',\n",
       " '87052718',\n",
       " '87052719',\n",
       " '87052720',\n",
       " '87052721',\n",
       " '87052722',\n",
       " '87052723',\n",
       " '87052724',\n",
       " '87052725',\n",
       " '87052726',\n",
       " '87052727',\n",
       " '87052728',\n",
       " '87052729',\n",
       " '87052730',\n",
       " '87052731',\n",
       " '87052732',\n",
       " '87052733',\n",
       " '87052734',\n",
       " '87052735',\n",
       " '87052736',\n",
       " '87052737',\n",
       " '87052738',\n",
       " '87052739',\n",
       " '87052740',\n",
       " '87052741',\n",
       " '87052742',\n",
       " '87052743',\n",
       " '87052744',\n",
       " '87052745',\n",
       " '87052746',\n",
       " '87052747',\n",
       " '87052748',\n",
       " '87052749',\n",
       " '87052750',\n",
       " '87052751',\n",
       " '87052752',\n",
       " '87052753',\n",
       " '87052754',\n",
       " '87052755',\n",
       " '87052756',\n",
       " '87052757',\n",
       " '87052758',\n",
       " '87052759',\n",
       " '87052760',\n",
       " '87052761',\n",
       " '87052762',\n",
       " '87052763',\n",
       " '87052833',\n",
       " '87052834',\n",
       " '87052835',\n",
       " '87052836',\n",
       " '87052837',\n",
       " '87052838',\n",
       " '87052839',\n",
       " '87052840',\n",
       " '87052841',\n",
       " '87052842',\n",
       " '87052843',\n",
       " '87052844',\n",
       " '87052845',\n",
       " '87052846',\n",
       " '87052847',\n",
       " '87052848',\n",
       " '87052849',\n",
       " '87052850',\n",
       " '87052851',\n",
       " '87052852',\n",
       " '87052853',\n",
       " '87052854',\n",
       " '87052929',\n",
       " '87052930',\n",
       " '87052937',\n",
       " '87052938',\n",
       " '87053002',\n",
       " '87053003',\n",
       " '87053004',\n",
       " '87053005',\n",
       " '87053006',\n",
       " '87053007',\n",
       " '87053008',\n",
       " '87053009',\n",
       " '87053010',\n",
       " '87053011',\n",
       " '87053012',\n",
       " '87053013',\n",
       " '87053014',\n",
       " '87053015',\n",
       " '87053016',\n",
       " '87053017',\n",
       " '87053018',\n",
       " '87053019',\n",
       " '87053020',\n",
       " '87053021',\n",
       " '87053022',\n",
       " '87053023',\n",
       " '87053024',\n",
       " '87053025',\n",
       " '87053026',\n",
       " '87053027',\n",
       " '87053028',\n",
       " '87053029',\n",
       " '87053030',\n",
       " '87053031',\n",
       " '87053032',\n",
       " '87053033',\n",
       " '87053034',\n",
       " '87053035',\n",
       " '87053036',\n",
       " '87053037',\n",
       " '87053300',\n",
       " '87053301',\n",
       " '87053302',\n",
       " '87053303',\n",
       " '87053304',\n",
       " '87053305',\n",
       " '87053306',\n",
       " '87053307',\n",
       " '87053308',\n",
       " '87053309',\n",
       " '87053310',\n",
       " '87053311',\n",
       " '87053312',\n",
       " '87053313',\n",
       " '87053314',\n",
       " '87053315',\n",
       " '87053316',\n",
       " '87053317',\n",
       " '87053318',\n",
       " '87053319',\n",
       " '87053320',\n",
       " '87053321',\n",
       " '87053528',\n",
       " '87053529',\n",
       " '87053530',\n",
       " '87053531',\n",
       " '87053532',\n",
       " '87053533',\n",
       " '87053534',\n",
       " '87053535',\n",
       " '87053536',\n",
       " '87053537',\n",
       " '87053538',\n",
       " '87053539',\n",
       " '87053540',\n",
       " '87053541',\n",
       " '87053542',\n",
       " '87053543',\n",
       " '87053544',\n",
       " '87053545',\n",
       " '87053546',\n",
       " '87053547',\n",
       " '87053548',\n",
       " '87053549',\n",
       " '87053550',\n",
       " '87053551',\n",
       " '87053552',\n",
       " '87053553',\n",
       " '87053554',\n",
       " '87053555',\n",
       " '87053556',\n",
       " '87053557',\n",
       " '87053558',\n",
       " '87053559',\n",
       " '87053560',\n",
       " '87053561',\n",
       " '87053562',\n",
       " '87053563',\n",
       " '87053564',\n",
       " '87053565',\n",
       " '87053566',\n",
       " '87053567',\n",
       " '87053568',\n",
       " '87053569',\n",
       " '87053570',\n",
       " '87053571',\n",
       " '87053572',\n",
       " '87053573',\n",
       " '87053574',\n",
       " '87053575',\n",
       " '87053576',\n",
       " '87053577',\n",
       " '87053578',\n",
       " '87053579',\n",
       " '87053580',\n",
       " '87053581',\n",
       " '87053582',\n",
       " '87053583',\n",
       " '87053584',\n",
       " '87053585',\n",
       " '87053586',\n",
       " '87053587',\n",
       " '87053588',\n",
       " '87053589',\n",
       " '87053590',\n",
       " '87053591',\n",
       " '87053592',\n",
       " '87053593',\n",
       " '87053594',\n",
       " '87053595',\n",
       " '87053596',\n",
       " '87053597',\n",
       " '87053598',\n",
       " '87053599',\n",
       " '87053600',\n",
       " '87053601',\n",
       " '87053602',\n",
       " '87053603',\n",
       " '87053604',\n",
       " '87053605',\n",
       " '87053606',\n",
       " '87053607',\n",
       " '87053608',\n",
       " '87053609',\n",
       " '87053610',\n",
       " '87053611',\n",
       " '87053612',\n",
       " '87053613',\n",
       " '87053614',\n",
       " '87053615',\n",
       " '87053616',\n",
       " '87053617',\n",
       " '87053618',\n",
       " '87053619',\n",
       " '87053620',\n",
       " '87053621',\n",
       " '87053622',\n",
       " '87053623',\n",
       " '87053624',\n",
       " '87053625',\n",
       " '87053626',\n",
       " '87053627',\n",
       " '87053628',\n",
       " '87053629',\n",
       " '87053630',\n",
       " '87053631',\n",
       " '87053632',\n",
       " '87053633',\n",
       " '87053634',\n",
       " '87053635',\n",
       " '87053636',\n",
       " '87053637',\n",
       " '87053638',\n",
       " '87053639',\n",
       " '87053640',\n",
       " '87053641',\n",
       " '87053642',\n",
       " '87053643',\n",
       " '87053644',\n",
       " '87053645',\n",
       " '87053646',\n",
       " '87053647',\n",
       " '87053648',\n",
       " '87053649',\n",
       " '87053650',\n",
       " '87053651',\n",
       " '87053652',\n",
       " '87053653',\n",
       " '87053654',\n",
       " '87053655',\n",
       " '87053656',\n",
       " '87053657',\n",
       " '87053658',\n",
       " '87053659',\n",
       " '87053660',\n",
       " '87053661',\n",
       " '87053662',\n",
       " '87053663',\n",
       " '87053717',\n",
       " '87053718',\n",
       " '87053719',\n",
       " '87053720',\n",
       " '87053721',\n",
       " '87053722',\n",
       " '87053723',\n",
       " '87053724',\n",
       " '87053725',\n",
       " '87053726',\n",
       " '87053727',\n",
       " '87053728',\n",
       " '87053729',\n",
       " '87053730',\n",
       " '87053731',\n",
       " '87053732',\n",
       " '87053733',\n",
       " '87054666',\n",
       " '87054667',\n",
       " '87054668',\n",
       " '87054669',\n",
       " '87054670',\n",
       " '87054671',\n",
       " '87054672',\n",
       " ...]"
      ]
     },
     "execution_count": 90,
     "metadata": {},
     "output_type": "execute_result"
    }
   ],
   "source": [
    "# Write your code to compute the tf.idf\n",
    "from sklearn.feature_extraction.text import TfidfVectorizer\n",
    "import zipfile\n",
    "zip_ref = zipfile.ZipFile('ohsumed.zip', 'r')\n",
    "zip_ref.extractall('.')\n",
    "zip_ref.close()\n",
    "\n",
    "tfidf = TfidfVectorizer(input='ohsumed',stop_words='english')\n",
    "tfidf_values = tfidf.fit_transform(ohsumed.index)\n",
    "\n",
    "tfidf.get_feature_names()\n",
    "\n"
   ]
  },
  {
   "cell_type": "code",
   "execution_count": 93,
   "metadata": {},
   "outputs": [],
   "source": [
    "# Write your code to save the results in a pickle file\n",
    "#save into pickle file\n",
    "with open('tfidf.pickle', 'wb') as f: \n",
    "    pickle.dump(tfidf, f)\n"
   ]
  },
  {
   "cell_type": "code",
   "execution_count": 94,
   "metadata": {},
   "outputs": [],
   "source": [
    "#load pickle file \n",
    "with open('tfidf.pickle','rb') as f:\n",
    "    tfidf = pickle.load(f)"
   ]
  },
  {
   "cell_type": "markdown",
   "metadata": {},
   "source": [
    "### Exercise 1.3: Sort by tf.idf\n",
    "\n",
    "Write a program that returns the words of a document with highest tf.idf score, sorted in descending order."
   ]
  },
  {
   "cell_type": "code",
   "execution_count": 26,
   "metadata": {
    "collapsed": true
   },
   "outputs": [],
   "source": [
    "def best_tfidf(tfidf, docID, numwords=10):\n",
    "    \"\"\"Print the words with highest tf.idf, in descending order\n",
    "    >>> best_tfidf(tfidf, '87049087', numwords=3)\n",
    "    ['rhythms', 'refibrillation', 'organized']\n",
    "    \"\"\"\n",
    "    # Write your code here\n",
    "\n",
    "    return ..."
   ]
  },
  {
   "cell_type": "code",
   "execution_count": 27,
   "metadata": {},
   "outputs": [
    {
     "data": {
      "text/plain": [
       "['rhythms',\n",
       " 'refibrillation',\n",
       " 'organized',\n",
       " 'refibrillated',\n",
       " 'converted',\n",
       " 'emt',\n",
       " 'paramedic',\n",
       " 'ds',\n",
       " 'defibrillation',\n",
       " 'hospital']"
      ]
     },
     "execution_count": 27,
     "metadata": {},
     "output_type": "execute_result"
    }
   ],
   "source": [
    "best_tfidf(tfidf,'87049087')"
   ]
  },
  {
   "cell_type": "markdown",
   "metadata": {},
   "source": [
    "### Optional exercise: tf.idf cosine similarity\n",
    "\n",
    "Write a function that takes as a parameter a string and an optional parameter $n$ the number of results, and returns the IDs of the $n$ documents that are most relevant according to the tf.idf vector of the documents and cosine similarity. The results are sorted in descending order of the cosine similarity score. ***If the execution of your program takes too long, in your solution you can process only the first 1000 files from the ohsumed collection.***"
   ]
  },
  {
   "cell_type": "code",
   "execution_count": 30,
   "metadata": {
    "collapsed": true
   },
   "outputs": [],
   "source": [
    "def best_documents(querystring,n=10):\n",
    "    \"\"\"Return the indices of the best n documents using cosine similarity\n",
    "    >>> best_documents(ohsumed.questions['OHSU1'], n=3)\n",
    "    ['87285549', '87162574', '87068356']\"\"\"\n",
    "    # Write your code here\n",
    "    \n",
    "    # Return the result, sorted by cosine similarity score\n",
    "    return ..."
   ]
  },
  {
   "cell_type": "code",
   "execution_count": 31,
   "metadata": {},
   "outputs": [
    {
     "data": {
      "text/plain": [
       "['87052846',\n",
       " '87053030',\n",
       " '87057603',\n",
       " '87057561',\n",
       " '87054719',\n",
       " '87053640',\n",
       " '87053630',\n",
       " '87055106',\n",
       " '87057550',\n",
       " '87053614']"
      ]
     },
     "execution_count": 31,
     "metadata": {},
     "output_type": "execute_result"
    }
   ],
   "source": [
    "best_documents(ohsumed.questions['OHSU1'])"
   ]
  },
  {
   "cell_type": "markdown",
   "metadata": {},
   "source": [
    "## 2. PageRank\n",
    "\n",
    "The following graph represents a tiny collection of 4 HTML documents and how they are linked. You will implement PageRank on the documents.\n",
    "\n",
    "![pagerank](graph.png)"
   ]
  },
  {
   "cell_type": "markdown",
   "metadata": {},
   "source": [
    "### Exercise 2.1: Transition matrix\n",
    "\n",
    "Write the transition matrix using Numpy Python code."
   ]
  },
  {
   "cell_type": "code",
   "execution_count": 32,
   "metadata": {
    "collapsed": true
   },
   "outputs": [],
   "source": [
    "A = ... # write your code here"
   ]
  },
  {
   "cell_type": "markdown",
   "metadata": {},
   "source": [
    "### Exercise 2.2: An Iteration of PageRank\n",
    "\n",
    "Perform an iteration of the PageRank algorithm and print the resulting PageRank scores of each page."
   ]
  },
  {
   "cell_type": "code",
   "execution_count": 33,
   "metadata": {},
   "outputs": [
    {
     "data": {
      "text/plain": [
       "array([[ 0.25   ],\n",
       "       [ 0.14375],\n",
       "       [ 0.56875],\n",
       "       [ 0.0375 ]])"
      ]
     },
     "execution_count": 33,
     "metadata": {},
     "output_type": "execute_result"
    }
   ],
   "source": []
  },
  {
   "cell_type": "markdown",
   "metadata": {},
   "source": [
    "### Exercise 2.3: Complete PageRank\n",
    "\n",
    "Perform the PageRank algorithm until convergence and report the number of iterations and the final scores."
   ]
  },
  {
   "cell_type": "code",
   "execution_count": 34,
   "metadata": {},
   "outputs": [
    {
     "name": "stdout",
     "output_type": "stream",
     "text": [
      "PR after 9 iterations:\n",
      "[[ 0.37044014]\n",
      " [ 0.19493706]\n",
      " [ 0.3971228 ]\n",
      " [ 0.0375    ]]\n"
     ]
    }
   ],
   "source": []
  },
  {
   "cell_type": "code",
   "execution_count": null,
   "metadata": {
    "collapsed": true
   },
   "outputs": [],
   "source": []
  }
 ],
 "metadata": {
  "anaconda-cloud": {},
  "kernelspec": {
   "display_name": "Python 3",
   "language": "python",
   "name": "python3"
  },
  "language_info": {
   "codemirror_mode": {
    "name": "ipython",
    "version": 3
   },
   "file_extension": ".py",
   "mimetype": "text/x-python",
   "name": "python",
   "nbconvert_exporter": "python",
   "pygments_lexer": "ipython3",
   "version": "3.7.0"
  }
 },
 "nbformat": 4,
 "nbformat_minor": 2
}
